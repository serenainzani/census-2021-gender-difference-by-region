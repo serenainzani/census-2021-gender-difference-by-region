{
 "cells": [
  {
   "cell_type": "markdown",
   "id": "b92357ad",
   "metadata": {},
   "source": [
    "# Gender Difference by Region in England"
   ]
  },
  {
   "cell_type": "code",
   "execution_count": 190,
   "id": "b9e691d4",
   "metadata": {},
   "outputs": [],
   "source": [
    "import numpy\n",
    "import pandas as pd\n",
    "import seaborn as sns\n",
    "import matplotlib.pyplot as plt"
   ]
  },
  {
   "cell_type": "markdown",
   "id": "517fc214",
   "metadata": {},
   "source": [
    "First, get the dataframe from the excel sheet:"
   ]
  },
  {
   "cell_type": "code",
   "execution_count": 191,
   "id": "7cb0728e",
   "metadata": {},
   "outputs": [],
   "source": [
    "df = pd.read_excel('census2021firstresults.xlsx', sheet_name=\"P01\")\n",
    "df.to_csv('census2021firstresults.csv')"
   ]
  },
  {
   "cell_type": "code",
   "execution_count": 192,
   "id": "881ea047",
   "metadata": {},
   "outputs": [
    {
     "name": "stdout",
     "output_type": "stream",
     "text": [
      "     Area code          Area name  All persons   Females     Males\n",
      "0    K04000001  England and Wales     59597300  30420100  29177200\n",
      "1    E92000001            England     56489800  28833500  27656300\n",
      "2    E12000001         North East      2647100   1353800   1293300\n",
      "3    E06000047      County Durham       522100    266800    255300\n",
      "4    E06000005         Darlington       107800     55100     52700\n",
      "..         ...                ...          ...       ...       ...\n",
      "370  W06000018         Caerphilly       175900     90000     86000\n",
      "371  W06000019      Blaenau Gwent        66900     34100     32800\n",
      "372  W06000020            Torfaen        92300     47400     44900\n",
      "373  W06000021      Monmouthshire        93000     47400     45600\n",
      "374  W06000022            Newport       159600     81200     78400\n",
      "\n",
      "[375 rows x 5 columns]\n"
     ]
    }
   ],
   "source": [
    "print(df)"
   ]
  },
  {
   "cell_type": "markdown",
   "id": "0a9dc263",
   "metadata": {},
   "source": [
    "Filter data to keep the wider regions only:"
   ]
  },
  {
   "cell_type": "code",
   "execution_count": 193,
   "id": "71420050",
   "metadata": {},
   "outputs": [],
   "source": [
    "df = df[df['Area code'].str.contains(\"E12\")]\n",
    "df.drop('Area code',axis=1,inplace=True)"
   ]
  },
  {
   "cell_type": "code",
   "execution_count": 194,
   "id": "e6f119c2",
   "metadata": {
    "scrolled": true
   },
   "outputs": [
    {
     "name": "stdout",
     "output_type": "stream",
     "text": [
      "                    Area name  All persons  Females    Males\n",
      "2                  North East      2647100  1353800  1293300\n",
      "16                 North West      7417300  3777200  3640100\n",
      "60   Yorkshire and The Humber      5480800  2791800  2689000\n",
      "85              East Midlands      4880200  2478100  2402100\n",
      "125             West Midlands      5950800  3023000  2927700\n",
      "160           East of England      6334500  3227700  3106700\n",
      "211                    London      8799800  4531500  4268300\n",
      "247                South East      9278100  4738800  4539300\n",
      "318                South West      5701200  2911600  2789600\n"
     ]
    }
   ],
   "source": [
    "print(df)"
   ]
  },
  {
   "cell_type": "markdown",
   "id": "6b315955",
   "metadata": {},
   "source": [
    "Calculate the percentage difference between women to men in each region, and display on plot:"
   ]
  },
  {
   "cell_type": "code",
   "execution_count": 195,
   "id": "b5ff1a5b",
   "metadata": {},
   "outputs": [],
   "source": [
    "percentageDiff = (((df['Females'] - df['Males'])/df['Males']) * 100)\n",
    "df['Percentage Diff'] = percentageDiff"
   ]
  },
  {
   "cell_type": "code",
   "execution_count": 196,
   "id": "fbae3242",
   "metadata": {},
   "outputs": [
    {
     "name": "stdout",
     "output_type": "stream",
     "text": [
      "                    Area name  All persons  Females    Males  Percentage Diff\n",
      "2                  North East      2647100  1353800  1293300         4.677956\n",
      "16                 North West      7417300  3777200  3640100         3.766380\n",
      "60   Yorkshire and The Humber      5480800  2791800  2689000         3.822983\n",
      "85              East Midlands      4880200  2478100  2402100         3.163898\n",
      "125             West Midlands      5950800  3023000  2927700         3.255115\n",
      "160           East of England      6334500  3227700  3106700         3.894808\n",
      "211                    London      8799800  4531500  4268300         6.166389\n",
      "247                South East      9278100  4738800  4539300         4.394951\n",
      "318                South West      5701200  2911600  2789600         4.373387\n"
     ]
    }
   ],
   "source": [
    "print(df)"
   ]
  },
  {
   "cell_type": "code",
   "execution_count": 197,
   "id": "bc741bc4",
   "metadata": {},
   "outputs": [
    {
     "data": {
      "text/plain": [
       "<AxesSubplot:xlabel='Percentage Diff', ylabel='Area name'>"
      ]
     },
     "execution_count": 197,
     "metadata": {},
     "output_type": "execute_result"
    },
    {
     "data": {
      "image/png": "[encoded data removed]",
      "text/plain": [
       "<Figure size 432x288 with 1 Axes>"
      ]
     },
     "metadata": {
      "needs_background": "light"
     },
     "output_type": "display_data"
    }
   ],
   "source": [
    "sns.barplot(data=df, \n",
    "            x=\"Percentage Diff\",\n",
    "            y=\"Area name\",\n",
    "            order=df.sort_values('Percentage Diff')[\"Area name\"]\n",
    "           )"
   ]
  },
  {
   "cell_type": "markdown",
   "id": "21182bd9",
   "metadata": {},
   "source": [
    "Conclusion: If you want a girlfriend, try going to London"
   ]
  }
 ],
 "metadata": {
  "kernelspec": {
   "display_name": "Python 3 (ipykernel)",
   "language": "python",
   "name": "python3"
  },
  "language_info": {
   "codemirror_mode": {
    "name": "ipython",
    "version": 3
   },
   "file_extension": ".py",
   "mimetype": "text/x-python",
   "name": "python",
   "nbconvert_exporter": "python",
   "pygments_lexer": "ipython3",
   "version": "3.9.12"
  }
 },
 "nbformat": 4,
 "nbformat_minor": 5
}
